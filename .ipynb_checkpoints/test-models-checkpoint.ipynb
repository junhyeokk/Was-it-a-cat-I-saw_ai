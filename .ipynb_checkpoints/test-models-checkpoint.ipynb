{
 "cells": [
  {
   "cell_type": "code",
   "execution_count": 12,
   "metadata": {},
   "outputs": [],
   "source": [
    "import numpy as np\n",
    "from numpy.linalg import norm\n",
    "from sklearn.neighbors import NearestNeighbors\n",
    "\n",
    "import os\n",
    "\n",
    "import tensorflow as tf\n",
    "from tensorflow.keras import applications\n",
    "from tensorflow.keras.preprocessing import image"
   ]
  },
  {
   "cell_type": "code",
   "execution_count": 13,
   "metadata": {},
   "outputs": [],
   "source": [
    "extensions = ['.jpg', '.JPG', '.jpeg', '.JPEG', '.png', '.PNG']\n",
    "\n",
    "def get_file_list(root_dir):\n",
    "    file_list = []\n",
    "    for root, directories, filenames in os.walk(root_dir):\n",
    "        for filename in filenames:\n",
    "            if any(ext in filename for ext in extensions):\n",
    "                file_list.append(os.path.join(root, filename))\n",
    "    return file_list"
   ]
  },
  {
   "cell_type": "code",
   "execution_count": 14,
   "metadata": {},
   "outputs": [],
   "source": [
    "def extract_features(img_path, model, preprocess_input):\n",
    "    input_shape = (224, 224, 3)\n",
    "    img = image.load_img(img_path,\n",
    "                        target_size=(input_shape[0], input_shape[1]))\n",
    "    img_array = image.img_to_array(img)\n",
    "    expanded_img_array = np.expand_dims(img_array, axis=0)\n",
    "    preprocessed_img = preprocess_input(expanded_img_array)\n",
    "    features = model.predict(preprocessed_img)\n",
    "    flattened_features = features.flatten()\n",
    "    normalized_features = flattened_features / norm(flattened_features)\n",
    "    return normalized_features"
   ]
  },
  {
   "cell_type": "code",
   "execution_count": 15,
   "metadata": {},
   "outputs": [
    {
     "data": {
      "text/plain": [
       "['./cat_test_images\\\\jjokgo1.jpg',\n",
       " './cat_test_images\\\\jjokgo2.jpg',\n",
       " './cat_test_images\\\\jjokgo3.jpg',\n",
       " './cat_test_images\\\\jjokgo4.jpg',\n",
       " './cat_test_images\\\\jjokgo5.jpg',\n",
       " './cat_test_images\\\\mango1.jpg',\n",
       " './cat_test_images\\\\mango2.jpg',\n",
       " './cat_test_images\\\\mango3.jpg',\n",
       " './cat_test_images\\\\mango4.jpg',\n",
       " './cat_test_images\\\\mango5.jpg',\n",
       " './cat_test_images\\\\sabum1.jpg',\n",
       " './cat_test_images\\\\sabum2.jpg',\n",
       " './cat_test_images\\\\sabum3.jpg',\n",
       " './cat_test_images\\\\sabum4.jpg',\n",
       " './cat_test_images\\\\sabum5.jpg',\n",
       " './cat_test_images\\\\samsak1.jpg',\n",
       " './cat_test_images\\\\samsak2.jpg',\n",
       " './cat_test_images\\\\samsak3.jpg',\n",
       " './cat_test_images\\\\samsak4.jpg',\n",
       " './cat_test_images\\\\samsak5.jpg',\n",
       " './cat_test_images\\\\sango1.jpg',\n",
       " './cat_test_images\\\\sango2.jpg',\n",
       " './cat_test_images\\\\sango3.jpg',\n",
       " './cat_test_images\\\\sango4.jpg',\n",
       " './cat_test_images\\\\sango5.jpg',\n",
       " './cat_test_images\\\\yuksi1.jpg',\n",
       " './cat_test_images\\\\yuksi2.jpg',\n",
       " './cat_test_images\\\\yuksi3.jpg',\n",
       " './cat_test_images\\\\yuksi4.jpg',\n",
       " './cat_test_images\\\\yuksi5.jpg',\n",
       " './cat_test_images\\\\zado1.jpg',\n",
       " './cat_test_images\\\\zado2.jpg',\n",
       " './cat_test_images\\\\zado3.jpg',\n",
       " './cat_test_images\\\\zado4.jpg',\n",
       " './cat_test_images\\\\zado5.jpg']"
      ]
     },
     "execution_count": 15,
     "metadata": {},
     "output_type": "execute_result"
    }
   ],
   "source": [
    "test_filenames = sorted(get_file_list('./cat_test_images'))\n",
    "test_filenames"
   ]
  },
  {
   "cell_type": "code",
   "execution_count": 16,
   "metadata": {},
   "outputs": [],
   "source": [
    "import re\n",
    "\n",
    "def catname(idx):\n",
    "    return re.sub(r\"[0-9]\", '', test_filenames[idx].split(\"\\\\\")[1].split(\".\")[0])"
   ]
  },
  {
   "cell_type": "code",
   "execution_count": 26,
   "metadata": {},
   "outputs": [],
   "source": [
    "def scoring(neighbors, distances, n):\n",
    "    result_score = 0\n",
    "    cats = dict()\n",
    "    \n",
    "    for test_num in range(len(test_filenames)):\n",
    "        cur_score = n\n",
    "        cur_cat = catname(test_num)\n",
    "        prediction = dict()\n",
    "        \n",
    "        for item in neighbors.kneighbors([distances[test_num]], return_distance=False)[0]:\n",
    "            if cur_score == n:\n",
    "                cur_score -= 1\n",
    "                continue\n",
    "            \n",
    "            if catname(item) in prediction:\n",
    "                prediction[catname(item)] += cur_score\n",
    "#                 print(catname(item) + \" \" + str(cur_score))\n",
    "            else:\n",
    "                prediction[catname(item)] = cur_score\n",
    "#                 print(catname(item) + \" \" + str(cur_score))\n",
    "                \n",
    "            cur_score -= 1\n",
    "        \n",
    "        rank = sorted(prediction.items(), key=(lambda x: x[1]), reverse=True)\n",
    "#         print(rank)\n",
    "\n",
    "        if cur_cat not in cats:\n",
    "            cats[cur_cat] = 0\n",
    "        \n",
    "        if rank[0][0] == cur_cat:\n",
    "            result_score += 2\n",
    "            cats[cur_cat] += 2\n",
    "        elif len(rank) > 1 and rank[1][0] == cur_cat:\n",
    "            result_score += 1\n",
    "            cats[cur_cat] += 1\n",
    "    \n",
    "    for k, v in cats.items():\n",
    "        print(f\"{k} : {v} / {(n - 1) * 2}\")\n",
    "    print(str(result_score) + \" / \" + str(len(test_filenames) * 2))\n",
    "    return result_score"
   ]
  },
  {
   "cell_type": "code",
   "execution_count": 18,
   "metadata": {},
   "outputs": [],
   "source": [
    "def test_model(model, preprocess_input, n_neighbors):\n",
    "    result =  []\n",
    "\n",
    "    for filename in test_filenames:\n",
    "        result.append(extract_features(filename, model, preprocess_input))\n",
    "\n",
    "    neighbors = NearestNeighbors(n_neighbors=n_neighbors + 1,\n",
    "                                algorithm='brute',\n",
    "                                metric='euclidean').fit(result)\n",
    "\n",
    "    # minkowski, euclidean, mahalanobis\n",
    "\n",
    "    scoring(neighbors, result, n_neighbors + 1)"
   ]
  },
  {
   "cell_type": "code",
   "execution_count": 19,
   "metadata": {},
   "outputs": [],
   "source": [
    "n = 5"
   ]
  },
  {
   "cell_type": "code",
   "execution_count": 13,
   "metadata": {},
   "outputs": [
    {
     "name": "stdout",
     "output_type": "stream",
     "text": [
      "ResNet152 V2\n",
      "jjokgo : 5 / 10\n",
      "mango : 6 / 10\n",
      "sabum : 2 / 10\n",
      "samsak : 5 / 10\n",
      "sango : 3 / 10\n",
      "yuksi : 4 / 10\n",
      "zado : 3 / 10\n",
      "28 / 70\n"
     ]
    }
   ],
   "source": [
    "resnet152v2_model = applications.resnet_v2.ResNet152V2(weights='imagenet',\n",
    "                include_top=True,\n",
    "                input_shape=(224, 224, 3))\n",
    "rint(\"ResNet152 V2\")\n",
    "test_model(resnet152v2_model, applications.resnet_v2.preprocess_input, n)"
   ]
  },
  {
   "cell_type": "code",
   "execution_count": null,
   "metadata": {},
   "outputs": [],
   "source": [
    "resnet50_model = applications.resnet50.ResNet50(weights='imagenet',\n",
    "                include_top=True,\n",
    "                input_shape=(224, 224, 3))\n",
    "print(\"ResNet50\")\n",
    "test_model(resnet50_model, applications.resnet50.preprocess_input, n)"
   ]
  },
  {
   "cell_type": "code",
   "execution_count": 9,
   "metadata": {},
   "outputs": [
    {
     "name": "stdout",
     "output_type": "stream",
     "text": [
      "trained 1 epoch from ResNet50\n",
      "jjokgo : 5 / 10\n",
      "mango : 8 / 10\n",
      "sabum : 8 / 10\n",
      "samsak : 8 / 10\n",
      "sango : 6 / 10\n",
      "yuksi : 6 / 10\n",
      "zado : 5 / 10\n",
      "46 / 70\n"
     ]
    }
   ],
   "source": [
    "model_epoch1 = tf.keras.models.load_model(\"./resnet50-epoch1.h5\")\n",
    "print(\"trained 1 epoch from ResNet50\")\n",
    "test_model(model_epoch1, applications.resnet50.preprocess_input, n)"
   ]
  },
  {
   "cell_type": "code",
   "execution_count": null,
   "metadata": {
    "scrolled": true
   },
   "outputs": [],
   "source": [
    "vgg16_model = applications.vgg16.VGG16(weights='imagenet',\n",
    "                include_top=True,\n",
    "                input_shape=(224, 224, 3))\n",
    "print(\"VGG16\")\n",
    "test_model(vgg16_model, applications.vgg16.preprocess_input, n)"
   ]
  },
  {
   "cell_type": "code",
   "execution_count": null,
   "metadata": {},
   "outputs": [],
   "source": [
    "mobilenet_model = applications.mobilenet.MobileNet(weights='imagenet',\n",
    "                include_top=True,\n",
    "                input_shape=(224, 224, 3))\n",
    "print(\"MobileNet\")\n",
    "test_model(mobilenet_model, applications.mobilenet.preprocess_input, n)"
   ]
  },
  {
   "cell_type": "code",
   "execution_count": 18,
   "metadata": {},
   "outputs": [
    {
     "name": "stdout",
     "output_type": "stream",
     "text": [
      "DenseNet201\n",
      "jjokgo : 6 / 10\n",
      "mango : 7 / 10\n",
      "sabum : 3 / 10\n",
      "samsak : 10 / 10\n",
      "sango : 3 / 10\n",
      "yuksi : 3 / 10\n",
      "zado : 4 / 10\n",
      "36 / 70\n"
     ]
    }
   ],
   "source": [
    "densenet_model = applications.densenet.DenseNet201(weights='imagenet',\n",
    "                include_top=True,\n",
    "                input_shape=(224, 224, 3))\n",
    "print(\"DenseNet201\")\n",
    "test_model(densenet_model, applications.densenet.preprocess_input, n)"
   ]
  },
  {
   "cell_type": "code",
   "execution_count": null,
   "metadata": {},
   "outputs": [],
   "source": [
    "nasnet_model = applications.nasnet.NASNetMobile(weights='imagenet',\n",
    "                include_top=True,\n",
    "                input_shape=(224, 224, 3))\n",
    "print(\"NASNet Mobile\")\n",
    "test_model(nasnet_model, applications.nasnet.preprocess_input, n)"
   ]
  },
  {
   "cell_type": "code",
   "execution_count": null,
   "metadata": {},
   "outputs": [],
   "source": [
    "mobilenet_v2_model = applications.mobilenet_v2.MobileNetV2(weights='imagenet',\n",
    "                include_top=True,\n",
    "                input_shape=(224, 224, 3))\n",
    "print(\"MobileNet V2\")\n",
    "test_model(mobilenet_v2_model, applications.mobilenet_v2.preprocess_input, n)"
   ]
  },
  {
   "cell_type": "code",
   "execution_count": null,
   "metadata": {},
   "outputs": [],
   "source": [
    "densenet169_model = applications.densenet.DenseNet169(weights='imagenet',\n",
    "                include_top=True,\n",
    "                input_shape=(224, 224, 3))\n",
    "print(\"DenseNet169\")\n",
    "test_model(densenet169_model, applications.densenet.preprocess_input, n)"
   ]
  },
  {
   "cell_type": "code",
   "execution_count": 19,
   "metadata": {},
   "outputs": [
    {
     "name": "stdout",
     "output_type": "stream",
     "text": [
      "trained 1 epoch from DenseNet201\n",
      "jjokgo : 4 / 10\n",
      "mango : 6 / 10\n",
      "sabum : 1 / 10\n",
      "samsak : 6 / 10\n",
      "sango : 6 / 10\n",
      "yuksi : 8 / 10\n",
      "zado : 5 / 10\n",
      "36 / 70\n"
     ]
    }
   ],
   "source": [
    "densenet201_epoch1 = tf.keras.models.load_model(\"./densenet201-epoch1.h5\")\n",
    "print(\"trained 1 epoch from DenseNet201\")\n",
    "test_model(densenet201_epoch1, applications.densenet.preprocess_input, n)"
   ]
  },
  {
   "cell_type": "code",
   "execution_count": 21,
   "metadata": {},
   "outputs": [
    {
     "name": "stdout",
     "output_type": "stream",
     "text": [
      "trained 2 epoch from ResNet50\n",
      "jjokgo : 4 / 10\n",
      "mango : 8 / 10\n",
      "sabum : 2 / 10\n",
      "samsak : 5 / 10\n",
      "sango : 4 / 10\n",
      "yuksi : 6 / 10\n",
      "zado : 1 / 10\n",
      "30 / 70\n"
     ]
    }
   ],
   "source": [
    "model_epoch2 = tf.keras.models.load_model(\"./resnet50-epoch2.h5\")\n",
    "print(\"trained 2 epoch from ResNet50\")\n",
    "test_model(model_epoch2, applications.resnet50.preprocess_input, n)"
   ]
  },
  {
   "cell_type": "code",
   "execution_count": 27,
   "metadata": {},
   "outputs": [
    {
     "name": "stdout",
     "output_type": "stream",
     "text": [
      "trained 3 epoch from ResNet50\n",
      "jjokgo : 5 / 10\n",
      "mango : 9 / 10\n",
      "sabum : 1 / 10\n",
      "samsak : 4 / 10\n",
      "sango : 2 / 10\n",
      "yuksi : 8 / 10\n",
      "zado : 4 / 10\n",
      "33 / 70\n"
     ]
    }
   ],
   "source": [
    "model_epoch3 = tf.keras.models.load_model(\"./resnet50-epoch3.h5\")\n",
    "print(\"trained 3 epoch from ResNet50\")\n",
    "test_model(model_epoch3, applications.resnet50.preprocess_input, n)"
   ]
  },
  {
   "cell_type": "code",
   "execution_count": null,
   "metadata": {},
   "outputs": [],
   "source": []
  }
 ],
 "metadata": {
  "kernelspec": {
   "display_name": "Python 3",
   "language": "python",
   "name": "python3"
  },
  "language_info": {
   "codemirror_mode": {
    "name": "ipython",
    "version": 3
   },
   "file_extension": ".py",
   "mimetype": "text/x-python",
   "name": "python",
   "nbconvert_exporter": "python",
   "pygments_lexer": "ipython3",
   "version": "3.8.5"
  }
 },
 "nbformat": 4,
 "nbformat_minor": 4
}
