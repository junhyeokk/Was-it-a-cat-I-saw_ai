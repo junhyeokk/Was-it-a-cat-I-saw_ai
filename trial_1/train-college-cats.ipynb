{
 "cells": [
  {
   "cell_type": "code",
   "execution_count": 1,
   "metadata": {},
   "outputs": [],
   "source": [
    "import os\n",
    "import math\n",
    "import tensorflow as tf\n",
    "from tensorflow.keras.preprocessing.image import ImageDataGenerator\n",
    "from tensorflow.keras import applications\n",
    "\n",
    "from PIL import Image, ImageFile\n",
    "ImageFile.LOAD_TRUNCATED_IMAGES = True\n",
    "\n",
    "from tensorflow import keras"
   ]
  },
  {
   "cell_type": "code",
   "execution_count": 2,
   "metadata": {},
   "outputs": [],
   "source": [
    "extensions = ['.jpg', '.JPG', '.jpeg', '.JPEG', '.png', '.PNG']\n",
    "\n",
    "def get_file_list(root_dir):\n",
    "    file_list = []\n",
    "    for root, directories, filenames in os.walk(root_dir):\n",
    "        for filename in filenames:\n",
    "            if any(ext in filename for ext in extensions):\n",
    "                file_list.append(os.path.join(root, filename))\n",
    "    return file_list"
   ]
  },
  {
   "cell_type": "code",
   "execution_count": 3,
   "metadata": {},
   "outputs": [],
   "source": [
    "root_dir = './cat_train_images_2'\n",
    "filenames = sorted(get_file_list(root_dir))\n",
    "\n",
    "TRAIN_SAMPLES = len(filenames)\n",
    "NUM_CLASSES = 7\n",
    "IMG_WIDTH, IMG_HEIGHT = 224, 224\n",
    "batch_size=16\n",
    "\n",
    "preprocess_input = applications.densenet.preprocess_input\n",
    "\n",
    "input_model = \"./densenet201-epoch0_2.h5\"\n",
    "output_model = \"./densenet201-epoch1_2.h5\""
   ]
  },
  {
   "cell_type": "code",
   "execution_count": 4,
   "metadata": {},
   "outputs": [],
   "source": [
    "train_datagen = ImageDataGenerator(preprocessing_function=preprocess_input,\n",
    "                                  rotation_range=20,\n",
    "                                  width_shift_range=0.2,\n",
    "                                  height_shift_range=0.2,\n",
    "                                  zoom_range=0.2)"
   ]
  },
  {
   "cell_type": "code",
   "execution_count": 5,
   "metadata": {},
   "outputs": [
    {
     "name": "stdout",
     "output_type": "stream",
     "text": [
      "Found 35 images belonging to 7 classes.\n"
     ]
    }
   ],
   "source": [
    "train_generator = train_datagen.flow_from_directory(root_dir,\n",
    "                                                   target_size=(IMG_WIDTH,\n",
    "                                                               IMG_HEIGHT),\n",
    "                                                   batch_size=batch_size,\n",
    "                                                   shuffle=True,\n",
    "                                                   seed=12345,\n",
    "                                                   class_mode='categorical')"
   ]
  },
  {
   "cell_type": "code",
   "execution_count": 6,
   "metadata": {},
   "outputs": [
    {
     "name": "stdout",
     "output_type": "stream",
     "text": [
      "WARNING:tensorflow:No training configuration found in the save file, so the model was *not* compiled. Compile it manually.\n",
      "Model: \"functional_1\"\n",
      "_________________________________________________________________\n",
      "Layer (type)                 Output Shape              Param #   \n",
      "=================================================================\n",
      "input_2 (InputLayer)         [(None, 224, 224, 3)]     0         \n",
      "_________________________________________________________________\n",
      "densenet201 (Functional)     (None, 7, 7, 1920)        18321984  \n",
      "_________________________________________________________________\n",
      "global_average_pooling2d (Gl (None, 1920)              0         \n",
      "_________________________________________________________________\n",
      "dense (Dense)                (None, 64)                122944    \n",
      "_________________________________________________________________\n",
      "dropout (Dropout)            (None, 64)                0         \n",
      "_________________________________________________________________\n",
      "dense_1 (Dense)              (None, 7)                 455       \n",
      "=================================================================\n",
      "Total params: 18,445,383\n",
      "Trainable params: 123,399\n",
      "Non-trainable params: 18,321,984\n",
      "_________________________________________________________________\n"
     ]
    }
   ],
   "source": [
    "model_finetuned = keras.models.load_model(input_model)\n",
    "model_finetuned.summary()"
   ]
  },
  {
   "cell_type": "code",
   "execution_count": 7,
   "metadata": {},
   "outputs": [
    {
     "name": "stdout",
     "output_type": "stream",
     "text": [
      "WARNING:tensorflow:From <ipython-input-7-c8ef13634987>:5: Model.fit_generator (from tensorflow.python.keras.engine.training) is deprecated and will be removed in a future version.\n",
      "Instructions for updating:\n",
      "Please use Model.fit, which supports generators.\n",
      "Epoch 1/8\n",
      "3/3 [==============================] - 4s 1s/step - loss: 2.6028 - acc: 0.0857\n",
      "Epoch 2/8\n",
      "3/3 [==============================] - 4s 1s/step - loss: 2.6006 - acc: 0.2286\n",
      "Epoch 3/8\n",
      "3/3 [==============================] - 4s 1s/step - loss: 2.3290 - acc: 0.2286\n",
      "Epoch 4/8\n",
      "3/3 [==============================] - 2s 783ms/step - loss: 2.0034 - acc: 0.3429\n",
      "Epoch 5/8\n",
      "3/3 [==============================] - 2s 778ms/step - loss: 1.6912 - acc: 0.3429\n",
      "Epoch 6/8\n",
      "3/3 [==============================] - 2s 787ms/step - loss: 1.5982 - acc: 0.4286\n",
      "Epoch 7/8\n",
      "3/3 [==============================] - 4s 1s/step - loss: 1.4861 - acc: 0.4286\n",
      "Epoch 8/8\n",
      "3/3 [==============================] - 2s 699ms/step - loss: 1.3632 - acc: 0.4571\n"
     ]
    },
    {
     "data": {
      "text/plain": [
       "<tensorflow.python.keras.callbacks.History at 0x1bc7ae84fa0>"
      ]
     },
     "execution_count": 7,
     "metadata": {},
     "output_type": "execute_result"
    }
   ],
   "source": [
    "model_finetuned.compile(loss='categorical_crossentropy',\n",
    "                       optimizer=tf.keras.optimizers.Adam(0.001),\n",
    "                       metrics=['acc'])\n",
    "\n",
    "model_finetuned.fit_generator(\n",
    "    train_generator,\n",
    "    steps_per_epoch=math.ceil(float(TRAIN_SAMPLES) / batch_size),\n",
    "    epochs=8\n",
    ")"
   ]
  },
  {
   "cell_type": "code",
   "execution_count": 8,
   "metadata": {},
   "outputs": [],
   "source": [
    "model_finetuned.save(output_model)"
   ]
  },
  {
   "cell_type": "code",
   "execution_count": null,
   "metadata": {},
   "outputs": [],
   "source": []
  }
 ],
 "metadata": {
  "kernelspec": {
   "display_name": "Python 3",
   "language": "python",
   "name": "python3"
  },
  "language_info": {
   "codemirror_mode": {
    "name": "ipython",
    "version": 3
   },
   "file_extension": ".py",
   "mimetype": "text/x-python",
   "name": "python",
   "nbconvert_exporter": "python",
   "pygments_lexer": "ipython3",
   "version": "3.8.5"
  }
 },
 "nbformat": 4,
 "nbformat_minor": 4
}
