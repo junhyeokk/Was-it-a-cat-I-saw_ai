{
 "cells": [
  {
   "cell_type": "code",
   "execution_count": 1,
   "id": "13beaf0c",
   "metadata": {},
   "outputs": [],
   "source": [
    "import numpy as np\n",
    "from numpy.linalg import norm\n",
    "import pickle\n",
    "from tqdm import tqdm, tqdm_notebook\n",
    "import os\n",
    "import time\n",
    "from tensorflow.keras.preprocessing import image\n",
    "from keras.models import load_model\n",
    "from tensorflow.keras.applications.mobilenet import MobileNet, preprocess_input\n",
    "from sklearn.neighbors import NearestNeighbors"
   ]
  },
  {
   "cell_type": "code",
   "execution_count": 2,
   "id": "1bffd303",
   "metadata": {},
   "outputs": [],
   "source": [
    "def extract_features(img_path, model):\n",
    "    input_shape = (224, 224, 3)\n",
    "    img = image.load_img(img_path, target_size = (input_shape[0], input_shape[1]))\n",
    "    img_array = image.img_to_array(img)\n",
    "    expanded_img_array = np.expand_dims(img_array, axis = 0)\n",
    "    preprocessed_img = preprocess_input(expanded_img_array)\n",
    "    features = model.predict(preprocessed_img)\n",
    "    flattened_features = features.flatten()\n",
    "    normalized_features = flattened_features / norm(flattened_features)\n",
    "    return normalized_features"
   ]
  },
  {
   "cell_type": "code",
   "execution_count": 3,
   "id": "f62e4e7f",
   "metadata": {},
   "outputs": [],
   "source": [
    "def get_file_list(root_dir):\n",
    "    file_list = []\n",
    "    counter = 0\n",
    "    for root, directories, filenames in os.walk(root_dir):\n",
    "        for filename in filenames:\n",
    "            file_list.append(os.path.join(root, filename))\n",
    "            counter += 1\n",
    "    print(counter)\n",
    "    return file_list"
   ]
  },
  {
   "cell_type": "code",
   "execution_count": 4,
   "id": "30ae6e4e",
   "metadata": {},
   "outputs": [
    {
     "name": "stdout",
     "output_type": "stream",
     "text": [
      "60\n"
     ]
    }
   ],
   "source": [
    "root_dir = \"./cat_test_images\"\n",
    "filenames = sorted(get_file_list(root_dir))"
   ]
  },
  {
   "cell_type": "code",
   "execution_count": 5,
   "id": "e323228b",
   "metadata": {},
   "outputs": [],
   "source": [
    "def make_features(model_name):\n",
    "    model = load_model(model_name)\n",
    "    \n",
    "    feature_list = []\n",
    "    for i in tqdm_notebook(range(len(filenames))):\n",
    "        feature_list.append(extract_features(filenames[i], model))\n",
    "    \n",
    "    feature_file_name = f\"./features/cat_features_{model_name.split('/')[-1].split('.')[0]}.pickle\"\n",
    "    pickle.dump(feature_list, open(feature_file_name, \"wb\"))\n",
    "    \n",
    "    return feature_file_name"
   ]
  },
  {
   "cell_type": "code",
   "execution_count": 6,
   "id": "01f4f47b",
   "metadata": {},
   "outputs": [],
   "source": [
    "pickle.dump(filenames, open(f\"./features/cat_filenames.pickle\", \"wb\"))"
   ]
  },
  {
   "cell_type": "code",
   "execution_count": 7,
   "id": "1e81903e",
   "metadata": {},
   "outputs": [],
   "source": [
    "def cat_name(file_name):\n",
    "    return file_name.split('/')[-1][:-5]"
   ]
  },
  {
   "cell_type": "code",
   "execution_count": 12,
   "id": "60424adf",
   "metadata": {},
   "outputs": [],
   "source": [
    "def top3_score(feature_list):\n",
    "    # 가까운 3개의 이미지 중 하나가 맞으면 + 1\n",
    "    neighbors = NearestNeighbors(n_neighbors = 5, algorithm = \"brute\", metric = \"euclidean\").fit(feature_list)\n",
    "    \n",
    "    score = 0\n",
    "    for image_index in range(60):\n",
    "        distances, indices = neighbors.kneighbors([feature_list[image_index]])\n",
    "        \n",
    "        for close_index in indices[0][1:4]:  # top 3\n",
    "            if cat_name(filenames[image_index]) == cat_name(filenames[close_index]):\n",
    "                score += 1\n",
    "                break\n",
    "    \n",
    "    return score"
   ]
  },
  {
   "cell_type": "code",
   "execution_count": 13,
   "id": "f0470872",
   "metadata": {},
   "outputs": [],
   "source": [
    "def top1_score(feature_list):\n",
    "    # 가장 가까운 이미지 하나가 맞으면 + 1\n",
    "    neighbors = NearestNeighbors(n_neighbors = 5, algorithm = \"brute\", metric = \"euclidean\").fit(feature_list)\n",
    "    \n",
    "    score = 0\n",
    "    for image_index in range(60):\n",
    "        distances, indices = neighbors.kneighbors([feature_list[image_index]])\n",
    "        \n",
    "        if cat_name(filenames[image_index]) == cat_name(filenames[indices[0][1]]):\n",
    "            score += 1\n",
    "    \n",
    "    return score"
   ]
  },
  {
   "cell_type": "code",
   "execution_count": 10,
   "id": "dc372844",
   "metadata": {},
   "outputs": [
    {
     "name": "stderr",
     "output_type": "stream",
     "text": [
      "2022-03-03 13:46:10.019340: I tensorflow/core/platform/cpu_feature_guard.cc:151] This TensorFlow binary is optimized with oneAPI Deep Neural Network Library (oneDNN) to use the following CPU instructions in performance-critical operations:  AVX2 FMA\n",
      "To enable them in other operations, rebuild TensorFlow with the appropriate compiler flags.\n"
     ]
    },
    {
     "name": "stdout",
     "output_type": "stream",
     "text": [
      "WARNING:tensorflow:No training configuration found in the save file, so the model was *not* compiled. Compile it manually.\n"
     ]
    },
    {
     "name": "stderr",
     "output_type": "stream",
     "text": [
      "/var/folders/yc/02lxtkmx2mg_z49jlv4hp2h80000gn/T/ipykernel_9678/1007040836.py:5: TqdmDeprecationWarning: This function will be removed in tqdm==5.0.0\n",
      "Please use `tqdm.notebook.tqdm` instead of `tqdm.tqdm_notebook`\n",
      "  for i in tqdm_notebook(range(len(filenames))):\n"
     ]
    },
    {
     "data": {
      "application/vnd.jupyter.widget-view+json": {
       "model_id": "1c5d5e8e740143f5ae5b92fe9a722e28",
       "version_major": 2,
       "version_minor": 0
      },
      "text/plain": [
       "  0%|          | 0/60 [00:00<?, ?it/s]"
      ]
     },
     "metadata": {},
     "output_type": "display_data"
    },
    {
     "name": "stdout",
     "output_type": "stream",
     "text": [
      "WARNING:tensorflow:No training configuration found in the save file, so the model was *not* compiled. Compile it manually.\n"
     ]
    },
    {
     "data": {
      "application/vnd.jupyter.widget-view+json": {
       "model_id": "2554b7dfb49641afa373f70a54f74518",
       "version_major": 2,
       "version_minor": 0
      },
      "text/plain": [
       "  0%|          | 0/60 [00:00<?, ?it/s]"
      ]
     },
     "metadata": {},
     "output_type": "display_data"
    },
    {
     "name": "stdout",
     "output_type": "stream",
     "text": [
      "WARNING:tensorflow:No training configuration found in the save file, so the model was *not* compiled. Compile it manually.\n"
     ]
    },
    {
     "data": {
      "application/vnd.jupyter.widget-view+json": {
       "model_id": "52e4df2983c9457ab655f9b746a40fb9",
       "version_major": 2,
       "version_minor": 0
      },
      "text/plain": [
       "  0%|          | 0/60 [00:00<?, ?it/s]"
      ]
     },
     "metadata": {},
     "output_type": "display_data"
    },
    {
     "name": "stdout",
     "output_type": "stream",
     "text": [
      "WARNING:tensorflow:No training configuration found in the save file, so the model was *not* compiled. Compile it manually.\n"
     ]
    },
    {
     "data": {
      "application/vnd.jupyter.widget-view+json": {
       "model_id": "b5f9ab58df384429b4ad7a4ff314869f",
       "version_major": 2,
       "version_minor": 0
      },
      "text/plain": [
       "  0%|          | 0/60 [00:00<?, ?it/s]"
      ]
     },
     "metadata": {},
     "output_type": "display_data"
    },
    {
     "name": "stdout",
     "output_type": "stream",
     "text": [
      "WARNING:tensorflow:No training configuration found in the save file, so the model was *not* compiled. Compile it manually.\n"
     ]
    },
    {
     "data": {
      "application/vnd.jupyter.widget-view+json": {
       "model_id": "f76474523eb3444a94799c5847f7357d",
       "version_major": 2,
       "version_minor": 0
      },
      "text/plain": [
       "  0%|          | 0/60 [00:00<?, ?it/s]"
      ]
     },
     "metadata": {},
     "output_type": "display_data"
    },
    {
     "name": "stdout",
     "output_type": "stream",
     "text": [
      "WARNING:tensorflow:No training configuration found in the save file, so the model was *not* compiled. Compile it manually.\n"
     ]
    },
    {
     "data": {
      "application/vnd.jupyter.widget-view+json": {
       "model_id": "60b91600a92c43579d212363bbdc6df7",
       "version_major": 2,
       "version_minor": 0
      },
      "text/plain": [
       "  0%|          | 0/60 [00:00<?, ?it/s]"
      ]
     },
     "metadata": {},
     "output_type": "display_data"
    },
    {
     "name": "stdout",
     "output_type": "stream",
     "text": [
      "WARNING:tensorflow:No training configuration found in the save file, so the model was *not* compiled. Compile it manually.\n"
     ]
    },
    {
     "data": {
      "application/vnd.jupyter.widget-view+json": {
       "model_id": "bce68cfe3a1c4fa28f3fa363e054ee87",
       "version_major": 2,
       "version_minor": 0
      },
      "text/plain": [
       "  0%|          | 0/60 [00:00<?, ?it/s]"
      ]
     },
     "metadata": {},
     "output_type": "display_data"
    },
    {
     "name": "stdout",
     "output_type": "stream",
     "text": [
      "WARNING:tensorflow:No training configuration found in the save file, so the model was *not* compiled. Compile it manually.\n"
     ]
    },
    {
     "data": {
      "application/vnd.jupyter.widget-view+json": {
       "model_id": "f1d64d053e924056a31f132677ab284e",
       "version_major": 2,
       "version_minor": 0
      },
      "text/plain": [
       "  0%|          | 0/60 [00:00<?, ?it/s]"
      ]
     },
     "metadata": {},
     "output_type": "display_data"
    },
    {
     "name": "stdout",
     "output_type": "stream",
     "text": [
      "WARNING:tensorflow:No training configuration found in the save file, so the model was *not* compiled. Compile it manually.\n"
     ]
    },
    {
     "data": {
      "application/vnd.jupyter.widget-view+json": {
       "model_id": "a7dd00d2a4df404fbbcab84d1e965e34",
       "version_major": 2,
       "version_minor": 0
      },
      "text/plain": [
       "  0%|          | 0/60 [00:00<?, ?it/s]"
      ]
     },
     "metadata": {},
     "output_type": "display_data"
    },
    {
     "name": "stdout",
     "output_type": "stream",
     "text": [
      "WARNING:tensorflow:No training configuration found in the save file, so the model was *not* compiled. Compile it manually.\n"
     ]
    },
    {
     "data": {
      "application/vnd.jupyter.widget-view+json": {
       "model_id": "2de0f5a43f47436da6f615aa79ceb211",
       "version_major": 2,
       "version_minor": 0
      },
      "text/plain": [
       "  0%|          | 0/60 [00:00<?, ?it/s]"
      ]
     },
     "metadata": {},
     "output_type": "display_data"
    },
    {
     "name": "stdout",
     "output_type": "stream",
     "text": [
      "WARNING:tensorflow:No training configuration found in the save file, so the model was *not* compiled. Compile it manually.\n"
     ]
    },
    {
     "data": {
      "application/vnd.jupyter.widget-view+json": {
       "model_id": "02edbd5a16d2499396aab234667b62b9",
       "version_major": 2,
       "version_minor": 0
      },
      "text/plain": [
       "  0%|          | 0/60 [00:00<?, ?it/s]"
      ]
     },
     "metadata": {},
     "output_type": "display_data"
    }
   ],
   "source": [
    "model_list = [f\"./knn_models/model_epoch_{i}.h5\" for i in range(0, 11)]\n",
    "feature_files = []\n",
    "\n",
    "for model in model_list:\n",
    "    feature_file_name = make_features(model)\n",
    "    feature_files.append(feature_file_name)"
   ]
  },
  {
   "cell_type": "code",
   "execution_count": 14,
   "id": "ec1f123e",
   "metadata": {},
   "outputs": [
    {
     "name": "stdout",
     "output_type": "stream",
     "text": [
      "cat_features_model_epoch_0 top 1 score : 30\n",
      "cat_features_model_epoch_0 top 3 score : 44\n",
      "\n",
      "cat_features_model_epoch_1 top 1 score : 25\n",
      "cat_features_model_epoch_1 top 3 score : 35\n",
      "\n",
      "cat_features_model_epoch_2 top 1 score : 22\n",
      "cat_features_model_epoch_2 top 3 score : 34\n",
      "\n",
      "cat_features_model_epoch_3 top 1 score : 20\n",
      "cat_features_model_epoch_3 top 3 score : 29\n",
      "\n",
      "cat_features_model_epoch_4 top 1 score : 21\n",
      "cat_features_model_epoch_4 top 3 score : 35\n",
      "\n",
      "cat_features_model_epoch_5 top 1 score : 19\n",
      "cat_features_model_epoch_5 top 3 score : 30\n",
      "\n",
      "cat_features_model_epoch_6 top 1 score : 18\n",
      "cat_features_model_epoch_6 top 3 score : 36\n",
      "\n",
      "cat_features_model_epoch_7 top 1 score : 16\n",
      "cat_features_model_epoch_7 top 3 score : 30\n",
      "\n",
      "cat_features_model_epoch_8 top 1 score : 14\n",
      "cat_features_model_epoch_8 top 3 score : 34\n",
      "\n",
      "cat_features_model_epoch_9 top 1 score : 12\n",
      "cat_features_model_epoch_9 top 3 score : 34\n",
      "\n",
      "cat_features_model_epoch_10 top 1 score : 11\n",
      "cat_features_model_epoch_10 top 3 score : 27\n",
      "\n"
     ]
    }
   ],
   "source": [
    "for feature_file in feature_files:\n",
    "    feature_list = pickle.load(open(feature_file, \"rb\"))\n",
    "    \n",
    "    print(f\"{feature_file.split('/')[-1].split('.')[0]} top 1 score : {top1_score(feature_list)}\")\n",
    "    print(f\"{feature_file.split('/')[-1].split('.')[0]} top 3 score : {top3_score(feature_list)}\")\n",
    "    print()"
   ]
  },
  {
   "cell_type": "code",
   "execution_count": null,
   "id": "14cbdc1d",
   "metadata": {},
   "outputs": [],
   "source": []
  }
 ],
 "metadata": {
  "kernelspec": {
   "display_name": "Python 3 (ipykernel)",
   "language": "python",
   "name": "python3"
  },
  "language_info": {
   "codemirror_mode": {
    "name": "ipython",
    "version": 3
   },
   "file_extension": ".py",
   "mimetype": "text/x-python",
   "name": "python",
   "nbconvert_exporter": "python",
   "pygments_lexer": "ipython3",
   "version": "3.8.12"
  }
 },
 "nbformat": 4,
 "nbformat_minor": 5
}
