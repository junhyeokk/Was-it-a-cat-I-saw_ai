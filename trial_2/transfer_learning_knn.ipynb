{
  "nbformat": 4,
  "nbformat_minor": 0,
  "metadata": {
    "colab": {
      "name": "transfer_learning_knn.ipynb",
      "provenance": [],
      "collapsed_sections": []
    },
    "kernelspec": {
      "name": "python3",
      "display_name": "Python 3"
    },
    "language_info": {
      "name": "python"
    },
    "accelerator": "GPU"
  },
  "cells": [
    {
      "cell_type": "code",
      "execution_count": null,
      "metadata": {
        "colab": {
          "base_uri": "https://localhost:8080/"
        },
        "id": "E60EoimrEx5I",
        "outputId": "bcd10869-2733-483b-8962-f84f727a0117"
      },
      "outputs": [
        {
          "output_type": "stream",
          "name": "stdout",
          "text": [
            "Mounted at /content/drive\n"
          ]
        }
      ],
      "source": [
        "from google.colab import drive\n",
        "drive.mount('/content/drive')"
      ]
    },
    {
      "cell_type": "code",
      "source": [
        "import tensorflow as tf\n",
        "from tensorflow.keras.preprocessing.image import ImageDataGenerator\n",
        "from tensorflow.keras.models import Model\n",
        "from tensorflow.keras.layers import Input, Flatten, Dense, Dropout, GlobalAveragePooling2D\n",
        "from tensorflow.keras.applications.resnet50 import ResNet50, preprocess_input\n",
        "from tensorflow.keras.applications.mobilenet import MobileNet, preprocess_input\n",
        "\n",
        "from tensorflow.python.client import device_lib"
      ],
      "metadata": {
        "id": "PPMRH8IkGi78"
      },
      "execution_count": null,
      "outputs": []
    },
    {
      "cell_type": "code",
      "source": [
        "print(tf.__version__)\n",
        "\n",
        "device_lib.list_local_devices()"
      ],
      "metadata": {
        "colab": {
          "base_uri": "https://localhost:8080/"
        },
        "id": "hzFLMSMoKRG_",
        "outputId": "776ed7ea-f8de-4a11-f038-cd65e96511d6"
      },
      "execution_count": null,
      "outputs": [
        {
          "output_type": "stream",
          "name": "stdout",
          "text": [
            "2.8.0\n"
          ]
        },
        {
          "output_type": "execute_result",
          "data": {
            "text/plain": [
              "[name: \"/device:CPU:0\"\n",
              " device_type: \"CPU\"\n",
              " memory_limit: 268435456\n",
              " locality {\n",
              " }\n",
              " incarnation: 10960389087982028575\n",
              " xla_global_id: -1, name: \"/device:GPU:0\"\n",
              " device_type: \"GPU\"\n",
              " memory_limit: 11320098816\n",
              " locality {\n",
              "   bus_id: 1\n",
              "   links {\n",
              "   }\n",
              " }\n",
              " incarnation: 12934477382601211736\n",
              " physical_device_desc: \"device: 0, name: Tesla K80, pci bus id: 0000:00:04.0, compute capability: 3.7\"\n",
              " xla_global_id: 416903419]"
            ]
          },
          "metadata": {},
          "execution_count": 3
        }
      ]
    },
    {
      "cell_type": "code",
      "source": [
        "seed = 22222"
      ],
      "metadata": {
        "id": "-_YItxKzKbPy"
      },
      "execution_count": null,
      "outputs": []
    },
    {
      "cell_type": "code",
      "source": [
        "TRAIN_DATA_DIR = \"/content/drive/MyDrive/고양이_리뉴얼/train/train/\"\n",
        "VALIDATION_DATA_DIR = \"/content/drive/MyDrive/고양이_리뉴얼/val/val/\"\n",
        "NUM_CLASSES = 37\n",
        "IMG_WIDTH, IMG_HEIGHT = 224, 224\n",
        "BATCH_SIZE = 64\n",
        "\n",
        "TRAIN_SAMPLES = 6650\n",
        "VALIDATION_SAMPLES = 703"
      ],
      "metadata": {
        "id": "foiEnCbtKkX_"
      },
      "execution_count": null,
      "outputs": []
    },
    {
      "cell_type": "code",
      "source": [
        "train_datagen = ImageDataGenerator(preprocessing_function = preprocess_input)\n",
        "val_datagen = ImageDataGenerator(preprocessing_function = preprocess_input)"
      ],
      "metadata": {
        "id": "2p6cRo-2Kmrt"
      },
      "execution_count": null,
      "outputs": []
    },
    {
      "cell_type": "code",
      "source": [
        "train_generator = train_datagen.flow_from_directory(\n",
        "    TRAIN_DATA_DIR,\n",
        "    target_size = (IMG_WIDTH, IMG_HEIGHT),\n",
        "    batch_size = BATCH_SIZE,\n",
        "    shuffle = True,\n",
        "    seed = seed,\n",
        "    class_mode = 'categorical'\n",
        ")\n",
        "\n",
        "validation_generator = val_datagen.flow_from_directory(\n",
        "    VALIDATION_DATA_DIR,\n",
        "    target_size = (IMG_WIDTH, IMG_HEIGHT),\n",
        "    batch_size = BATCH_SIZE,\n",
        "    shuffle = True,\n",
        "    seed = seed,\n",
        "    class_mode = 'categorical'\n",
        ")"
      ],
      "metadata": {
        "colab": {
          "base_uri": "https://localhost:8080/"
        },
        "id": "wSAZkLXwKo9P",
        "outputId": "03cde710-64a6-4942-e007-c2699b713239"
      },
      "execution_count": null,
      "outputs": [
        {
          "output_type": "stream",
          "name": "stdout",
          "text": [
            "Found 6650 images belonging to 37 classes.\n",
            "Found 703 images belonging to 37 classes.\n"
          ]
        }
      ]
    },
    {
      "cell_type": "code",
      "source": [
        "model = MobileNet(weights = 'imagenet', include_top = False, input_shape = (224, 224, 3))\n",
        "\n",
        "for layer in model.layers[:]:\n",
        "    layer.trainable = True\n",
        "\n",
        "input = Input(shape = (224, 224, 3))\n",
        "x = model(input)\n",
        "x = GlobalAveragePooling2D()(x)\n",
        "x = Dense(NUM_CLASSES, activation='softmax')(x)\n",
        "\n",
        "model_similarity_optimized = Model(inputs = input, outputs = x)\n",
        "model = Model(model_similarity_optimized.input, model_similarity_optimized.layers[-2].output)\n",
        "model.save(\"/content/drive/MyDrive/고양이_리뉴얼/model_epoch_0.h5\")"
      ],
      "metadata": {
        "colab": {
          "base_uri": "https://localhost:8080/"
        },
        "id": "otX2X0s-KrpF",
        "outputId": "6aadd796-aa9e-4481-b599-eb08312719b0"
      },
      "execution_count": null,
      "outputs": [
        {
          "output_type": "stream",
          "name": "stdout",
          "text": [
            "WARNING:tensorflow:Compiled the loaded model, but the compiled metrics have yet to be built. `model.compile_metrics` will be empty until you train or evaluate the model.\n"
          ]
        }
      ]
    },
    {
      "cell_type": "code",
      "source": [
        "for epoch_cnt in range(1, 11):\n",
        "  print(f\"epoch : {epoch_cnt}\")\n",
        "\n",
        "  model_similarity_optimized.compile(loss = 'categorical_crossentropy',\n",
        "              optimizer = tf.keras.optimizers.Adam(lr=0.001),\n",
        "              metrics=['acc'])\n",
        "  model_similarity_optimized.fit_generator(train_generator,\n",
        "                    steps_per_epoch = TRAIN_SAMPLES // BATCH_SIZE,\n",
        "                    epochs = 1,\n",
        "                    validation_data = validation_generator,\n",
        "                    validation_steps = VALIDATION_SAMPLES // BATCH_SIZE)\n",
        "\n",
        "  # model_similarity_optimized.layers.pop()\n",
        "  model = Model(model_similarity_optimized.input, model_similarity_optimized.layers[-2].output)\n",
        "  model.save(f\"/content/drive/MyDrive/고양이_리뉴얼/model_epoch_{epoch_cnt}.h5\")"
      ],
      "metadata": {
        "colab": {
          "base_uri": "https://localhost:8080/"
        },
        "id": "igtG02T6K8q5",
        "outputId": "5d7fd0cf-8ccc-4db1-ffe4-51859620ba94"
      },
      "execution_count": null,
      "outputs": [
        {
          "output_type": "stream",
          "name": "stdout",
          "text": [
            "epoch : 1\n"
          ]
        },
        {
          "output_type": "stream",
          "name": "stderr",
          "text": [
            "/usr/local/lib/python3.7/dist-packages/keras/optimizer_v2/adam.py:105: UserWarning: The `lr` argument is deprecated, use `learning_rate` instead.\n",
            "  super(Adam, self).__init__(name, **kwargs)\n",
            "/usr/local/lib/python3.7/dist-packages/ipykernel_launcher.py:11: UserWarning: `Model.fit_generator` is deprecated and will be removed in a future version. Please use `Model.fit`, which supports generators.\n",
            "  # This is added back by InteractiveShellApp.init_path()\n"
          ]
        },
        {
          "output_type": "stream",
          "name": "stdout",
          "text": [
            "103/103 [==============================] - 78s 694ms/step - loss: 0.8594 - acc: 0.7410 - val_loss: 3.0998 - val_acc: 0.3547\n",
            "WARNING:tensorflow:Compiled the loaded model, but the compiled metrics have yet to be built. `model.compile_metrics` will be empty until you train or evaluate the model.\n",
            "epoch : 2\n",
            "103/103 [==============================] - 74s 683ms/step - loss: 0.4243 - acc: 0.8633 - val_loss: 2.4755 - val_acc: 0.4484\n",
            "WARNING:tensorflow:Compiled the loaded model, but the compiled metrics have yet to be built. `model.compile_metrics` will be empty until you train or evaluate the model.\n",
            "epoch : 3\n",
            "103/103 [==============================] - 74s 688ms/step - loss: 0.3070 - acc: 0.8990 - val_loss: 2.1030 - val_acc: 0.5625\n",
            "WARNING:tensorflow:Compiled the loaded model, but the compiled metrics have yet to be built. `model.compile_metrics` will be empty until you train or evaluate the model.\n",
            "epoch : 4\n",
            "103/103 [==============================] - 74s 687ms/step - loss: 0.2401 - acc: 0.9224 - val_loss: 3.9502 - val_acc: 0.4266\n",
            "WARNING:tensorflow:Compiled the loaded model, but the compiled metrics have yet to be built. `model.compile_metrics` will be empty until you train or evaluate the model.\n",
            "epoch : 5\n",
            "103/103 [==============================] - 74s 686ms/step - loss: 0.2108 - acc: 0.9311 - val_loss: 2.2455 - val_acc: 0.5625\n",
            "WARNING:tensorflow:Compiled the loaded model, but the compiled metrics have yet to be built. `model.compile_metrics` will be empty until you train or evaluate the model.\n",
            "epoch : 6\n",
            "103/103 [==============================] - 74s 686ms/step - loss: 0.1850 - acc: 0.9385 - val_loss: 1.9724 - val_acc: 0.6469\n",
            "WARNING:tensorflow:Compiled the loaded model, but the compiled metrics have yet to be built. `model.compile_metrics` will be empty until you train or evaluate the model.\n",
            "epoch : 7\n",
            "103/103 [==============================] - 74s 685ms/step - loss: 0.1561 - acc: 0.9500 - val_loss: 1.6138 - val_acc: 0.7063\n",
            "WARNING:tensorflow:Compiled the loaded model, but the compiled metrics have yet to be built. `model.compile_metrics` will be empty until you train or evaluate the model.\n",
            "epoch : 8\n",
            "103/103 [==============================] - 74s 685ms/step - loss: 0.1505 - acc: 0.9491 - val_loss: 2.3970 - val_acc: 0.6219\n",
            "WARNING:tensorflow:Compiled the loaded model, but the compiled metrics have yet to be built. `model.compile_metrics` will be empty until you train or evaluate the model.\n",
            "epoch : 9\n",
            "103/103 [==============================] - 74s 682ms/step - loss: 0.1502 - acc: 0.9517 - val_loss: 1.9503 - val_acc: 0.6625\n",
            "WARNING:tensorflow:Compiled the loaded model, but the compiled metrics have yet to be built. `model.compile_metrics` will be empty until you train or evaluate the model.\n",
            "epoch : 10\n",
            "103/103 [==============================] - 74s 683ms/step - loss: 0.1378 - acc: 0.9558 - val_loss: 3.1709 - val_acc: 0.5797\n",
            "WARNING:tensorflow:Compiled the loaded model, but the compiled metrics have yet to be built. `model.compile_metrics` will be empty until you train or evaluate the model.\n"
          ]
        }
      ]
    },
    {
      "cell_type": "code",
      "source": [
        ""
      ],
      "metadata": {
        "id": "WbYyMeIWFlif"
      },
      "execution_count": null,
      "outputs": []
    }
  ]
}